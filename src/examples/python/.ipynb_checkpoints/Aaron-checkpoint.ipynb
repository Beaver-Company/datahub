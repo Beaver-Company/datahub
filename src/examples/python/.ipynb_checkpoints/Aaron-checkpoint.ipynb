{
 "metadata": {
  "name": "",
  "signature": "sha256:fd5f254e2bbbfa08241ff3d59651a8b6131d5daf8852c659487dc09347b5e2d6"
 },
 "nbformat": 3,
 "nbformat_minor": 0,
 "worksheets": []
}