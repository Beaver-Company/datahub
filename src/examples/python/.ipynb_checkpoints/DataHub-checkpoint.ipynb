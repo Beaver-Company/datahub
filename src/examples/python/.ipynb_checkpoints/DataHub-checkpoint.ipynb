{
 "metadata": {
  "name": "",
  "signature": "sha256:6ee454f58a23fcb35929a6e38fcf598a2f0e65e295abd6ea9cce9fb454d0f351"
 },
 "nbformat": 3,
 "nbformat_minor": 0,
 "worksheets": [
  {
   "cells": [
    {
     "cell_type": "code",
     "collapsed": false,
     "input": [],
     "language": "python",
     "metadata": {},
     "outputs": []
    }
   ],
   "metadata": {}
  }
 ]
}