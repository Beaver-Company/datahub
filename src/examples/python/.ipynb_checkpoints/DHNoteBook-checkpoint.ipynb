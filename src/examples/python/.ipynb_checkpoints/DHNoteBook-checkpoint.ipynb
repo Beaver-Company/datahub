{
 "metadata": {
  "name": "",
  "signature": "sha256:5b6722c0d47de982563a802de38cf2ec1fa21fa1252de068dc141bf393d7b204"
 },
 "nbformat": 3,
 "nbformat_minor": 0,
 "worksheets": [
  {
   "cells": [
    {
     "cell_type": "code",
     "collapsed": false,
     "input": [
      "from datahub import DataHub\n",
      "from datahub.constants import *\n",
      "\n",
      "from matplotlib import pyplot as plt\n",
      "\n",
      "from thrift import Thrift\n",
      "from thrift.protocol import TBinaryProtocol\n",
      "from thrift.transport import THttpClient\n",
      "from thrift.transport import TTransport\n",
      "\n",
      "'''\n",
      "@author: anant bhardwaj\n",
      "@date: Oct 11, 2013\n",
      "\n",
      "Sample Python notebook for DataHub\n",
      "'''\n",
      "\n",
      "transport = THttpClient.THttpClient('http://datahub.csail.mit.edu/service')\n",
      "transport = TTransport.TBufferedTransport(transport)\n",
      "protocol = TBinaryProtocol.TBinaryProtocol(transport)\n",
      "client = DataHub.Client(protocol)\n",
      "\n",
      "print \"Version: %s\" %(client.get_version())\n",
      "\n",
      "# open connection\n",
      "con_params = ConnectionParams(user='anantb', password='anant')\n",
      "con = client.open_connection(con_params=con_params)\n",
      "\n",
      "# execute a query\n",
      "res  = client.execute_sql(\n",
      "  con=con,\n",
      "  query='select pay_basis, count(*)/200 from california.table2006 group by pay_basis',\n",
      "  query_params=None)\n",
      "\n",
      "# print field names\n",
      "print \"\\t\".join(res.field_names)\n",
      "\n",
      "# print tuples\n",
      "for t in res.tuples:\n",
      "    print \"\\t\".join(t.cells)\n",
      "\n",
      "names = [int(t.cells[1]) for t in res.tuples]\n",
      "plt.hist(names, bins=20, histtype='bar', rwidth=0.2)"
     ],
     "language": "python",
     "metadata": {},
     "outputs": [
      {
       "ename": "ImportError",
       "evalue": "No module named datahub",
       "output_type": "pyerr",
       "traceback": [
        "\u001b[0;31m---------------------------------------------------------------------------\u001b[0m\n\u001b[0;31mImportError\u001b[0m                               Traceback (most recent call last)",
        "\u001b[0;32m<ipython-input-1-4c49058c5d74>\u001b[0m in \u001b[0;36m<module>\u001b[0;34m()\u001b[0m\n\u001b[0;32m----> 1\u001b[0;31m \u001b[0;32mfrom\u001b[0m \u001b[0mdatahub\u001b[0m \u001b[0;32mimport\u001b[0m \u001b[0mDataHub\u001b[0m\u001b[0;34m\u001b[0m\u001b[0m\n\u001b[0m\u001b[1;32m      2\u001b[0m \u001b[0;32mfrom\u001b[0m \u001b[0mdatahub\u001b[0m\u001b[0;34m.\u001b[0m\u001b[0mconstants\u001b[0m \u001b[0;32mimport\u001b[0m \u001b[0;34m*\u001b[0m\u001b[0;34m\u001b[0m\u001b[0m\n\u001b[1;32m      3\u001b[0m \u001b[0;34m\u001b[0m\u001b[0m\n\u001b[1;32m      4\u001b[0m \u001b[0;32mfrom\u001b[0m \u001b[0mmatplotlib\u001b[0m \u001b[0;32mimport\u001b[0m \u001b[0mpyplot\u001b[0m \u001b[0;32mas\u001b[0m \u001b[0mplt\u001b[0m\u001b[0;34m\u001b[0m\u001b[0m\n\u001b[1;32m      5\u001b[0m \u001b[0;34m\u001b[0m\u001b[0m\n",
        "\u001b[0;31mImportError\u001b[0m: No module named datahub"
       ]
      }
     ],
     "prompt_number": 1
    },
    {
     "cell_type": "code",
     "collapsed": false,
     "input": [
      "%matplotlib inline"
     ],
     "language": "python",
     "metadata": {},
     "outputs": [],
     "prompt_number": 2
    },
    {
     "cell_type": "code",
     "collapsed": false,
     "input": [],
     "language": "python",
     "metadata": {},
     "outputs": []
    }
   ],
   "metadata": {}
  }
 ]
}