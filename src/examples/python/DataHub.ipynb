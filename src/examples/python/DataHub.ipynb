{
 "metadata": {
  "name": "",
  "signature": "sha256:0b8ab92ab4028509868d46c90f0df5bdfba0f526d1752f5da3bd7ba6eb27e0a2"
 },
 "nbformat": 3,
 "nbformat_minor": 0,
 "worksheets": [
  {
   "cells": [
    {
     "cell_type": "code",
     "collapsed": false,
     "input": [
      "result = %sql select pay_basis, count(*) from test.table2006 group by pay_basis\n",
      "\n",
      "from matplotlib import pyplot as plt\n",
      "\n",
      "names = [int(t[1]) for t in result]\n",
      "plt.hist(names, bins=20, histtype='bar', rwidth=0.2)\n",
      "\n",
      "from nl"
     ],
     "language": "python",
     "metadata": {},
     "outputs": [
      {
       "output_type": "stream",
       "stream": "stdout",
       "text": [
        "10 rows affected.\n"
       ]
      },
      {
       "metadata": {},
       "output_type": "pyout",
       "prompt_number": 104,
       "text": [
        "(array([ 6.,  2.,  0.,  1.,  0.,  0.,  0.,  0.,  0.,  0.,  0.,  0.,  0.,\n",
        "         0.,  0.,  0.,  0.,  0.,  0.,  1.]),\n",
        " array([  6.00000000e+00,   1.13452500e+04,   2.26845000e+04,\n",
        "          3.40237500e+04,   4.53630000e+04,   5.67022500e+04,\n",
        "          6.80415000e+04,   7.93807500e+04,   9.07200000e+04,\n",
        "          1.02059250e+05,   1.13398500e+05,   1.24737750e+05,\n",
        "          1.36077000e+05,   1.47416250e+05,   1.58755500e+05,\n",
        "          1.70094750e+05,   1.81434000e+05,   1.92773250e+05,\n",
        "          2.04112500e+05,   2.15451750e+05,   2.26791000e+05]),\n",
        " <a list of 20 Patch objects>)"
       ]
      },
      {
       "metadata": {},
       "output_type": "display_data",
       "png": "[encoded data removed]",
       "text": [
        "<matplotlib.figure.Figure at 0x10ed5d610>"
       ]
      }
     ],
     "prompt_number": 104
    },
    {
     "cell_type": "code",
     "collapsed": false,
     "input": [],
     "language": "python",
     "metadata": {},
     "outputs": []
    }
   ],
   "metadata": {}
  }
 ]
}