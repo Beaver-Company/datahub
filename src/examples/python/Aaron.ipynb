{
 "metadata": {
  "name": "",
  "signature": "sha256:7597ad439fc3568814059cb25fcb87d214eef9663392e540893e77d061303434"
 },
 "nbformat": 3,
 "nbformat_minor": 0,
 "worksheets": [
  {
   "cells": [
    {
     "cell_type": "code",
     "collapsed": false,
     "input": [
      "from datahub import DataHub\n",
      "from datahub.constants import *\n",
      "from thrift import Thrift\n",
      "from thrift.protocol import TBinaryProtocol\n",
      "from thrift.transport import THttpClient\n",
      "from thrift.transport import TTransport\n",
      "\n",
      "'''\n",
      "@author: anant bhardwaj\n",
      "@date: Oct 11, 2013\n",
      "Sample Python client for DataHub\n",
      "'''\n",
      "\n",
      "try:\n",
      "  transport = THttpClient.THttpClient('http://datahub.csail.mit.edu/service')\n",
      "  transport = TTransport.TBufferedTransport(transport)\n",
      "  protocol = TBinaryProtocol.TBinaryProtocol(transport)\n",
      "  client = DataHub.Client(protocol)\n",
      "  \n",
      "  print \"Version: %s\" %(client.get_version())\n",
      "  \n",
      "  # open connection\n",
      "  con_params = ConnectionParams(user='anantb', password='anant')\n",
      "  con = client.open_connection(con_params=con_params)\n",
      "\n",
      "  # execute a query\n",
      "  res  = client.execute_sql(\n",
      "      con=con,\n",
      "      query='select * from anantb.test.demo',\n",
      "      query_params=None)\n",
      "\n",
      "  # print field names\n",
      "  print \"\\t\".join(res.field_names)\n",
      "  \n",
      "  # print tuples\n",
      "  for t in res.tuples:\n",
      "    print \"\\t\".join(t.cells)\n",
      "\n",
      "except Exception, e:\n",
      "    print 'Something went wrong : %s' % (e)"
     ],
     "language": "python",
     "metadata": {},
     "outputs": [
      {
       "output_type": "stream",
       "stream": "stdout",
       "text": [
        "Version: 1.0\n",
        "id\tname"
       ]
      },
      {
       "output_type": "stream",
       "stream": "stdout",
       "text": [
        "\n",
        "1\tanant\n",
        "2\tbrian\n",
        "3\tashish\n",
        "4\tpawan\n",
        "5\tmani\n"
       ]
      }
     ],
     "prompt_number": 2
    },
    {
     "cell_type": "markdown",
     "metadata": {},
     "source": [
      "## Aaron"
     ]
    },
    {
     "cell_type": "code",
     "collapsed": false,
     "input": [],
     "language": "python",
     "metadata": {},
     "outputs": []
    }
   ],
   "metadata": {}
  }
 ]
}